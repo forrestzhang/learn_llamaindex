{
 "cells": [
  {
   "cell_type": "code",
   "execution_count": 9,
   "metadata": {},
   "outputs": [],
   "source": [
    "import qdrant_client\n",
    "from llama_index.vector_stores.qdrant import QdrantVectorStore\n",
    "from llama_index.core.vector_stores import VectorStoreQuery\n",
    "from llama_index.core import Settings\n",
    "from llama_index.llms.ollama import Ollama\n",
    "from llama_index.embeddings.huggingface import HuggingFaceEmbedding"
   ]
  },
  {
   "cell_type": "code",
   "execution_count": 10,
   "metadata": {},
   "outputs": [],
   "source": [
    "Settings.llm = Ollama(model=\"llama3\")\n",
    "Settings.embed_model = HuggingFaceEmbedding(\"BAAI/bge-base-en-v1.5\")\n",
    "\n",
    "# embed_model = HuggingFaceEmbedding(model_name=\"BAAI/bge-small-en\")"
   ]
  },
  {
   "cell_type": "code",
   "execution_count": 11,
   "metadata": {},
   "outputs": [],
   "source": [
    "client = qdrant_client.QdrantClient(\n",
    "    # you can use :memory: mode for fast and light-weight experiments,\n",
    "    # it does not require to have Qdrant deployed anywhere\n",
    "    # but requires qdrant-client >= 1.1.1\n",
    "    # location=\":memory:\"\n",
    "    # otherwise set Qdrant instance address with:\n",
    "    # url=\"http://<host>:<port>\"\n",
    "    # otherwise set Qdrant instance with host and port:\n",
    "    host=\"localhost\",\n",
    "    port=6333\n",
    "    # set API KEY for Qdrant Cloud\n",
    "    # api_key=\"<qdrant-api-key>\",\n",
    ")\n",
    "\n",
    "vector_store = QdrantVectorStore(client=client, collection_name=\"pubmed_demo\")\n"
   ]
  },
  {
   "cell_type": "code",
   "execution_count": 12,
   "metadata": {},
   "outputs": [],
   "source": [
    "query_string = \"Is rice sensitvie to low temperature stress?\"\n",
    "query_embedding = Settings.embed_model.get_query_embedding(query_string)\n",
    "query_mode = 'default'\n",
    "\n"
   ]
  },
  {
   "cell_type": "code",
   "execution_count": 13,
   "metadata": {},
   "outputs": [],
   "source": [
    "vector_store_query = VectorStoreQuery(\n",
    " query_embedding=query_embedding, similarity_top_k=2, mode=query_mode\n",
    ")"
   ]
  },
  {
   "cell_type": "code",
   "execution_count": 14,
   "metadata": {},
   "outputs": [
    {
     "name": "stdout",
     "output_type": "stream",
     "text": [
      "Among all cereals, rice is highly sensitive to cold stress, especially at the germination stage, which adversely impacts its germination ability, seed vigor, crop stand establishment, and, ultimately, grain yield. The dissection of novel quantitative trait loci (QTLs) or genes conferring a low-temperature germination (LTG) ability can significantly accelerate cold-tolerant rice breeding to ensure the wide application of rice cultivation through the direct seeding method. In this study, we identified 11 QTLs for LTG using 144 recombinant inbred lines (RILs) derived from a cross between a cold-tolerant variety, Lijiangxintuanheigu (LTH), and a cold-sensitive variety, Shennong265 (SN265). By resequencing two parents and RIL lines, a high-density bin map, including 2,828 bin markers, was constructed using 123,859 single-nucleotide polymorphisms (SNPs) between two parents. The total genetic distance corresponding to all 12 chromosome linkage maps was 2,840.12 cm. Adjacent markers were marked by an average genetic distance of 1.01 cm, corresponding to a 128.80 kb physical distance. Eight and three QTL alleles had positive effects inherited from LTH and SN265, respectively. Moreover, a pleiotropic QTL was identified for a higher number of erected panicles and a higher grain number on Chr-9 near the previously cloned DEP1 gene. Among the LTG QTLs, qLTG3 and qLTG7b were also located at relatively small genetic intervals that define two known LTG genes, qLTG3-1 and OsSAP16. Sequencing comparisons between the two parents demonstrated that LTH possesses qLTG3-1 and OsSAP16 genes, and SN-265 owns the DEP1 gene. These comparison results strengthen the accuracy and mapping resolution power of the bin map and population. Later, fine mapping was done for qLTG6 at 45.80 kb through four key homozygous recombinant lines derived from a population with 1569 segregating plants. Finally, LOC_Os06g01320 was identified as the most possible candidate gene for qLTG6, which contains a missense mutation and a 32-bp deletion/insertion at the promoter between the two parents. LTH was observed to have lower expression levels in comparison with SN265 and was commonly detected at low temperatures. In conclusion, these results strengthen our understanding of the impacts of cold temperature stress on seed vigor and germination abilities and help improve the mechanisms of rice breeding programs to breed cold-tolerant varieties.\n"
     ]
    }
   ],
   "source": [
    "query_result = vector_store.query(vector_store_query)\n",
    "print(query_result.nodes[0].get_content())"
   ]
  },
  {
   "cell_type": "code",
   "execution_count": 15,
   "metadata": {},
   "outputs": [
    {
     "name": "stdout",
     "output_type": "stream",
     "text": [
      "VectorStoreQueryResult(nodes=[TextNode(id_='d87a3f37-13f9-4385-a7c7-6bb727170f0a', embedding=None, metadata={'pmid': '32074988', 'journal': 'International journal of molecular sciences', 'pubdate': '2020'}, excluded_embed_metadata_keys=[], excluded_llm_metadata_keys=[], relationships={<NodeRelationship.SOURCE: '1'>: RelatedNodeInfo(node_id='b75e56cd-0e8d-4e31-a9ed-a1ea37b7ab93', node_type=<ObjectType.DOCUMENT: '4'>, metadata={'pmid': '32074988', 'journal': 'International journal of molecular sciences', 'pubdate': '2020'}, hash='dca9a48e27fc5f055d6f7f22b1501180bc1faca2055f5f48b8ade8628be7d8f6')}, text='Among all cereals, rice is highly sensitive to cold stress, especially at the germination stage, which adversely impacts its germination ability, seed vigor, crop stand establishment, and, ultimately, grain yield. The dissection of novel quantitative trait loci (QTLs) or genes conferring a low-temperature germination (LTG) ability can significantly accelerate cold-tolerant rice breeding to ensure the wide application of rice cultivation through the direct seeding method. In this study, we identified 11 QTLs for LTG using 144 recombinant inbred lines (RILs) derived from a cross between a cold-tolerant variety, Lijiangxintuanheigu (LTH), and a cold-sensitive variety, Shennong265 (SN265). By resequencing two parents and RIL lines, a high-density bin map, including 2,828 bin markers, was constructed using 123,859 single-nucleotide polymorphisms (SNPs) between two parents. The total genetic distance corresponding to all 12 chromosome linkage maps was 2,840.12 cm. Adjacent markers were marked by an average genetic distance of 1.01 cm, corresponding to a 128.80 kb physical distance. Eight and three QTL alleles had positive effects inherited from LTH and SN265, respectively. Moreover, a pleiotropic QTL was identified for a higher number of erected panicles and a higher grain number on Chr-9 near the previously cloned DEP1 gene. Among the LTG QTLs, qLTG3 and qLTG7b were also located at relatively small genetic intervals that define two known LTG genes, qLTG3-1 and OsSAP16. Sequencing comparisons between the two parents demonstrated that LTH possesses qLTG3-1 and OsSAP16 genes, and SN-265 owns the DEP1 gene. These comparison results strengthen the accuracy and mapping resolution power of the bin map and population. Later, fine mapping was done for qLTG6 at 45.80 kb through four key homozygous recombinant lines derived from a population with 1569 segregating plants. Finally, LOC_Os06g01320 was identified as the most possible candidate gene for qLTG6, which contains a missense mutation and a 32-bp deletion/insertion at the promoter between the two parents. LTH was observed to have lower expression levels in comparison with SN265 and was commonly detected at low temperatures. In conclusion, these results strengthen our understanding of the impacts of cold temperature stress on seed vigor and germination abilities and help improve the mechanisms of rice breeding programs to breed cold-tolerant varieties.', mimetype='text/plain', start_char_idx=0, end_char_idx=2433, text_template='{metadata_str}\\n\\n{content}', metadata_template='{key}: {value}', metadata_seperator='\\n'), TextNode(id_='000b9b28-5663-4320-a26b-55e6d4823a00', embedding=None, metadata={'pmid': '32074988', 'journal': 'International journal of molecular sciences', 'pubdate': '2020'}, excluded_embed_metadata_keys=[], excluded_llm_metadata_keys=[], relationships={<NodeRelationship.SOURCE: '1'>: RelatedNodeInfo(node_id='c35bb0ef-8a52-49c8-bbb3-af18db07d70c', node_type=<ObjectType.DOCUMENT: '4'>, metadata={'pmid': '32074988', 'journal': 'International journal of molecular sciences', 'pubdate': '2020'}, hash='dca9a48e27fc5f055d6f7f22b1501180bc1faca2055f5f48b8ade8628be7d8f6')}, text='Among all cereals, rice is highly sensitive to cold stress, especially at the germination stage, which adversely impacts its germination ability, seed vigor, crop stand establishment, and, ultimately, grain yield. The dissection of novel quantitative trait loci (QTLs) or genes conferring a low-temperature germination (LTG) ability can significantly accelerate cold-tolerant rice breeding to ensure the wide application of rice cultivation through the direct seeding method. In this study, we identified 11 QTLs for LTG using 144 recombinant inbred lines (RILs) derived from a cross between a cold-tolerant variety, Lijiangxintuanheigu (LTH), and a cold-sensitive variety, Shennong265 (SN265). By resequencing two parents and RIL lines, a high-density bin map, including 2,828 bin markers, was constructed using 123,859 single-nucleotide polymorphisms (SNPs) between two parents. The total genetic distance corresponding to all 12 chromosome linkage maps was 2,840.12 cm. Adjacent markers were marked by an average genetic distance of 1.01 cm, corresponding to a 128.80 kb physical distance. Eight and three QTL alleles had positive effects inherited from LTH and SN265, respectively. Moreover, a pleiotropic QTL was identified for a higher number of erected panicles and a higher grain number on Chr-9 near the previously cloned DEP1 gene. Among the LTG QTLs, qLTG3 and qLTG7b were also located at relatively small genetic intervals that define two known LTG genes, qLTG3-1 and OsSAP16. Sequencing comparisons between the two parents demonstrated that LTH possesses qLTG3-1 and OsSAP16 genes, and SN-265 owns the DEP1 gene. These comparison results strengthen the accuracy and mapping resolution power of the bin map and population. Later, fine mapping was done for qLTG6 at 45.80 kb through four key homozygous recombinant lines derived from a population with 1569 segregating plants. Finally, LOC_Os06g01320 was identified as the most possible candidate gene for qLTG6, which contains a missense mutation and a 32-bp deletion/insertion at the promoter between the two parents. LTH was observed to have lower expression levels in comparison with SN265 and was commonly detected at low temperatures. In conclusion, these results strengthen our understanding of the impacts of cold temperature stress on seed vigor and germination abilities and help improve the mechanisms of rice breeding programs to breed cold-tolerant varieties.', mimetype='text/plain', start_char_idx=0, end_char_idx=2433, text_template='{metadata_str}\\n\\n{content}', metadata_template='{key}: {value}', metadata_seperator='\\n')], similarities=[0.69283825, 0.69283825], ids=['d87a3f37-13f9-4385-a7c7-6bb727170f0a', '000b9b28-5663-4320-a26b-55e6d4823a00'])\n"
     ]
    }
   ],
   "source": []
  },
  {
   "cell_type": "code",
   "execution_count": null,
   "metadata": {},
   "outputs": [],
   "source": []
  }
 ],
 "metadata": {
  "kernelspec": {
   "display_name": "llamaindex",
   "language": "python",
   "name": "python3"
  },
  "language_info": {
   "codemirror_mode": {
    "name": "ipython",
    "version": 3
   },
   "file_extension": ".py",
   "mimetype": "text/x-python",
   "name": "python",
   "nbconvert_exporter": "python",
   "pygments_lexer": "ipython3",
   "version": "3.11.9"
  }
 },
 "nbformat": 4,
 "nbformat_minor": 2
}
