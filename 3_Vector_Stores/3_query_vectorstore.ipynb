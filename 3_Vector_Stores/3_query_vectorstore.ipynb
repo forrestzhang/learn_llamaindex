{
 "cells": [
  {
   "cell_type": "code",
   "execution_count": 8,
   "metadata": {},
   "outputs": [],
   "source": [
    "import qdrant_client\n",
    "from llama_index.vector_stores.qdrant import QdrantVectorStore\n",
    "from llama_index.core.vector_stores import VectorStoreQuery\n",
    "from llama_index.core import Settings\n",
    "from llama_index.llms.ollama import Ollama\n",
    "from llama_index.embeddings.huggingface import HuggingFaceEmbedding"
   ]
  },
  {
   "cell_type": "code",
   "execution_count": 9,
   "metadata": {},
   "outputs": [],
   "source": [
    "Settings.llm = Ollama(model=\"llama3\")\n",
    "Settings.embed_model = HuggingFaceEmbedding(\"BAAI/bge-base-en-v1.5\")\n",
    "\n",
    "# embed_model = HuggingFaceEmbedding(model_name=\"BAAI/bge-small-en\")"
   ]
  },
  {
   "cell_type": "code",
   "execution_count": 10,
   "metadata": {},
   "outputs": [],
   "source": [
    "client = qdrant_client.QdrantClient(\n",
    "    # you can use :memory: mode for fast and light-weight experiments,\n",
    "    # it does not require to have Qdrant deployed anywhere\n",
    "    # but requires qdrant-client >= 1.1.1\n",
    "    # location=\":memory:\"\n",
    "    # otherwise set Qdrant instance address with:\n",
    "    # url=\"http://<host>:<port>\"\n",
    "    # otherwise set Qdrant instance with host and port:\n",
    "    host=\"localhost\",\n",
    "    port=6333\n",
    "    # set API KEY for Qdrant Cloud\n",
    "    # api_key=\"<qdrant-api-key>\",\n",
    ")\n",
    "\n",
    "vector_store = QdrantVectorStore(client=client, collection_name=\"pubmed_demo\")\n"
   ]
  },
  {
   "cell_type": "code",
   "execution_count": 11,
   "metadata": {},
   "outputs": [],
   "source": [
    "query_string = \"Is rice sensitvie to low temperature stress?\"\n",
    "query_embedding = Settings.embed_model.get_query_embedding(query_string)\n",
    "query_mode = 'default'\n",
    "\n"
   ]
  },
  {
   "cell_type": "code",
   "execution_count": 12,
   "metadata": {},
   "outputs": [],
   "source": [
    "vector_store_query = VectorStoreQuery(\n",
    " query_embedding=query_embedding, similarity_top_k=2, mode=query_mode\n",
    ")"
   ]
  },
  {
   "cell_type": "code",
   "execution_count": 13,
   "metadata": {},
   "outputs": [
    {
     "name": "stdout",
     "output_type": "stream",
     "text": [
      "Among all cereals, rice is highly sensitive to cold stress, especially at the germination stage, which adversely impacts its germination ability, seed vigor, crop stand establishment, and, ultimately, grain yield. The dissection of novel quantitative trait loci (QTLs) or genes conferring a low-temperature germination (LTG) ability can significantly accelerate cold-tolerant rice breeding to ensure the wide application of rice cultivation through the direct seeding method. In this study, we identified 11 QTLs for LTG using 144 recombinant inbred lines (RILs) derived from a cross between a cold-tolerant variety, Lijiangxintuanheigu (LTH), and a cold-sensitive variety, Shennong265 (SN265). By resequencing two parents and RIL lines, a high-density bin map, including 2,828 bin markers, was constructed using 123,859 single-nucleotide polymorphisms (SNPs) between two parents. The total genetic distance corresponding to all 12 chromosome linkage maps was 2,840.12 cm. Adjacent markers were marked by an average genetic distance of 1.01 cm, corresponding to a 128.80 kb physical distance. Eight and three QTL alleles had positive effects inherited from LTH and SN265, respectively. Moreover, a pleiotropic QTL was identified for a higher number of erected panicles and a higher grain number on Chr-9 near the previously cloned DEP1 gene. Among the LTG QTLs, qLTG3 and qLTG7b were also located at relatively small genetic intervals that define two known LTG genes, qLTG3-1 and OsSAP16. Sequencing comparisons between the two parents demonstrated that LTH possesses qLTG3-1 and OsSAP16 genes, and SN-265 owns the DEP1 gene. These comparison results strengthen the accuracy and mapping resolution power of the bin map and population. Later, fine mapping was done for qLTG6 at 45.80 kb through four key homozygous recombinant lines derived from a population with 1569 segregating plants. Finally, LOC_Os06g01320 was identified as the most possible candidate gene for qLTG6, which contains a missense mutation and a 32-bp deletion/insertion at the promoter between the two parents. LTH was observed to have lower expression levels in comparison with SN265 and was commonly detected at low temperatures. In conclusion, these results strengthen our understanding of the impacts of cold temperature stress on seed vigor and germination abilities and help improve the mechanisms of rice breeding programs to breed cold-tolerant varieties.\n"
     ]
    }
   ],
   "source": [
    "query_result = vector_store.query(vector_store_query)\n",
    "print(query_result.nodes[0].get_content())"
   ]
  },
  {
   "cell_type": "code",
   "execution_count": 14,
   "metadata": {},
   "outputs": [
    {
     "data": {
      "text/plain": [
       "[TextNode(id_='f499c230-9c0a-4063-a737-dc89af4f80bc', embedding=None, metadata={'pmid': '32074988', 'journal': 'International journal of molecular sciences', 'pubdate': '2020'}, excluded_embed_metadata_keys=[], excluded_llm_metadata_keys=[], relationships={<NodeRelationship.SOURCE: '1'>: RelatedNodeInfo(node_id='86f2d268-385f-46c0-856d-ebb2e34c1526', node_type=<ObjectType.DOCUMENT: '4'>, metadata={'pmid': '32074988', 'journal': 'International journal of molecular sciences', 'pubdate': '2020'}, hash='dca9a48e27fc5f055d6f7f22b1501180bc1faca2055f5f48b8ade8628be7d8f6')}, text='Among all cereals, rice is highly sensitive to cold stress, especially at the germination stage, which adversely impacts its germination ability, seed vigor, crop stand establishment, and, ultimately, grain yield. The dissection of novel quantitative trait loci (QTLs) or genes conferring a low-temperature germination (LTG) ability can significantly accelerate cold-tolerant rice breeding to ensure the wide application of rice cultivation through the direct seeding method. In this study, we identified 11 QTLs for LTG using 144 recombinant inbred lines (RILs) derived from a cross between a cold-tolerant variety, Lijiangxintuanheigu (LTH), and a cold-sensitive variety, Shennong265 (SN265). By resequencing two parents and RIL lines, a high-density bin map, including 2,828 bin markers, was constructed using 123,859 single-nucleotide polymorphisms (SNPs) between two parents. The total genetic distance corresponding to all 12 chromosome linkage maps was 2,840.12 cm. Adjacent markers were marked by an average genetic distance of 1.01 cm, corresponding to a 128.80 kb physical distance. Eight and three QTL alleles had positive effects inherited from LTH and SN265, respectively. Moreover, a pleiotropic QTL was identified for a higher number of erected panicles and a higher grain number on Chr-9 near the previously cloned DEP1 gene. Among the LTG QTLs, qLTG3 and qLTG7b were also located at relatively small genetic intervals that define two known LTG genes, qLTG3-1 and OsSAP16. Sequencing comparisons between the two parents demonstrated that LTH possesses qLTG3-1 and OsSAP16 genes, and SN-265 owns the DEP1 gene. These comparison results strengthen the accuracy and mapping resolution power of the bin map and population. Later, fine mapping was done for qLTG6 at 45.80 kb through four key homozygous recombinant lines derived from a population with 1569 segregating plants. Finally, LOC_Os06g01320 was identified as the most possible candidate gene for qLTG6, which contains a missense mutation and a 32-bp deletion/insertion at the promoter between the two parents. LTH was observed to have lower expression levels in comparison with SN265 and was commonly detected at low temperatures. In conclusion, these results strengthen our understanding of the impacts of cold temperature stress on seed vigor and germination abilities and help improve the mechanisms of rice breeding programs to breed cold-tolerant varieties.', mimetype='text/plain', start_char_idx=0, end_char_idx=2433, text_template='{metadata_str}\\n\\n{content}', metadata_template='{key}: {value}', metadata_seperator='\\n'),\n",
       " TextNode(id_='0a6b842a-8238-44dd-9a8d-a76cba15e5fc', embedding=None, metadata={'pmid': '33636556', 'journal': 'Journal of plant physiology', 'pubdate': '2021'}, excluded_embed_metadata_keys=[], excluded_llm_metadata_keys=[], relationships={<NodeRelationship.SOURCE: '1'>: RelatedNodeInfo(node_id='937d6375-530c-466c-be0b-6898605f66f5', node_type=<ObjectType.DOCUMENT: '4'>, metadata={'pmid': '33636556', 'journal': 'Journal of plant physiology', 'pubdate': '2021'}, hash='d29196017cf367368010215851c5f8d5f0e7aba6a13b51653dcd12d8bcc01d3e')}, text='Metabolic and genomic characteristics of polyamines (PAs) may be associated with the induction of cold tolerance (CT) responses in plants. Characteristics of PAs encoding genes in chickpea (Cicer arietinum L.) and their function under cold stress (CS) are currently unknown. In this study, the potential role of PAs along with the antioxidative defense systems were assessed in two chickpea genotypes (Sel96th11439, cold-tolerant and ILC533, cold-sensitive) under CS conditions. Six days after exposure to CS, the leaf H2O2 content and electrolyte leakage index increased in the sensitive genotype by 47.7 and 59 %, respectively, while these values decreased or remained unchanged, respectively, in the tolerant genotype. In tolerant genotype, the enhanced activity of superoxide dismutase (SOD) (by 50 %) was accompanied by unchanged activities of ascorbate peroxidase (APX), guaiacol peroxidase (GPX) and catalase (CAT) as well as the accumulation of glutathione (GSH) (by 43 %) on the sixth day of CS. Higher levels of putrescine (Put) (322 %), spermidine (Spd) (45 %), spermine (Spm) (69 %) and the highest ratio of Put/(Spd + Spm) were observed in tolerant genotype compared to the sensitive one on the sixth day of CS. Gamma-aminobutyric acid (GABA) accumulation was 74 % higher in tolerant genotype compared to the sensitive one on the sixth day of CS. During CS, the activity of diamine oxidase (DAO) and polyamine oxidase (PAO) increased in tolerant (by 3.02- and 2.46-fold) and sensitive (by 2.51- and 2.8-fold) genotypes, respectively, in comparison with the respective non-stressed plants (normal conditions). The highest activity of DAO and PAO in the tolerant genotype was accompanied by PAs decomposition and a peak in GABA content on the sixth day of CS. The analysis of chickpea genome revealed the presence of five PAs biosynthetic genes, their chromosomal locations, and cis-regulatory elements. A significant increase in transcript levels of arginine decarboxylase (ADC) (24.26- and 7.96-fold), spermidine synthase 1 (SPDS1) (3.03- and 1.53-fold), SPDS2 (5.5- and 1.62-fold) and spermine synthase (SPMS) (3.92- and 1.65-fold) genes was detected in tolerant and sensitive genotypes, respectively, whereas the expression of ornithine decarboxylase (ODC) genes decreased significantly under CS conditions in both genotypes. Leaf chlorophyll and carotenoid contents exhibited declining trends in the sensitive genotype, while these photosynthetic pigments were stable in the tolerant genotype due to the superior performance of defensive processes under CS conditions. Overall, these results suggested the specific roles of putative PAs genes and PAs metabolism in development of effective CT responses in chickpea.', mimetype='text/plain', start_char_idx=0, end_char_idx=2731, text_template='{metadata_str}\\n\\n{content}', metadata_template='{key}: {value}', metadata_seperator='\\n')]"
      ]
     },
     "execution_count": 14,
     "metadata": {},
     "output_type": "execute_result"
    }
   ],
   "source": [
    "query_result.nodes"
   ]
  },
  {
   "cell_type": "code",
   "execution_count": null,
   "metadata": {},
   "outputs": [],
   "source": []
  }
 ],
 "metadata": {
  "kernelspec": {
   "display_name": "llamaindex",
   "language": "python",
   "name": "python3"
  },
  "language_info": {
   "codemirror_mode": {
    "name": "ipython",
    "version": 3
   },
   "file_extension": ".py",
   "mimetype": "text/x-python",
   "name": "python",
   "nbconvert_exporter": "python",
   "pygments_lexer": "ipython3",
   "version": "3.11.9"
  }
 },
 "nbformat": 4,
 "nbformat_minor": 2
}
