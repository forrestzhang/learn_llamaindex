{
 "cells": [
  {
   "cell_type": "code",
   "execution_count": 1,
   "metadata": {},
   "outputs": [],
   "source": [
    "import pandas as pd\n",
    "from llama_index.core import Document, Settings"
   ]
  },
  {
   "cell_type": "code",
   "execution_count": 2,
   "metadata": {},
   "outputs": [],
   "source": [
    "news_full = pd.read_csv(\"../data/news/news_articles.csv\")"
   ]
  },
  {
   "cell_type": "code",
   "execution_count": 3,
   "metadata": {},
   "outputs": [
    {
     "data": {
      "text/plain": [
       "2500"
      ]
     },
     "execution_count": 3,
     "metadata": {},
     "output_type": "execute_result"
    }
   ],
   "source": [
    "len(news_full.title)"
   ]
  },
  {
   "cell_type": "code",
   "execution_count": 4,
   "metadata": {},
   "outputs": [],
   "source": [
    "news = news_full[:150]"
   ]
  },
  {
   "cell_type": "code",
   "execution_count": 5,
   "metadata": {},
   "outputs": [],
   "source": [
    "\n",
    "documents = [\n",
    "    Document(text=f\"{row['title']}: {row['text']}\")\n",
    "    for i, row in news.iterrows()\n",
    "]"
   ]
  },
  {
   "cell_type": "code",
   "execution_count": 6,
   "metadata": {},
   "outputs": [
    {
     "name": "stderr",
     "output_type": "stream",
     "text": [
      "/home/forrest/miniconda3/envs/llamaindex/lib/python3.11/site-packages/tqdm/auto.py:21: TqdmWarning: IProgress not found. Please update jupyter and ipywidgets. See https://ipywidgets.readthedocs.io/en/stable/user_install.html\n",
      "  from .autonotebook import tqdm as notebook_tqdm\n"
     ]
    }
   ],
   "source": [
    "from llama_index.llms.ollama import Ollama\n",
    "from llama_index.embeddings.huggingface import HuggingFaceEmbedding\n",
    "llm = Ollama(model='qwen2.5',\n",
    "             base_url='http://10.127.127.4:11434',\n",
    "             request_timeout=360)\n",
    "embed_model = HuggingFaceEmbedding(\"BAAI/bge-base-en-v1.5\")\n",
    "\n",
    "Settings.llm = llm\n",
    "Settings.embed_model = embed_model"
   ]
  },
  {
   "cell_type": "code",
   "execution_count": 7,
   "metadata": {},
   "outputs": [],
   "source": [
    "import asyncio\n",
    "import nest_asyncio\n",
    "\n",
    "nest_asyncio.apply()\n",
    "\n",
    "from typing import Any, List, Callable, Optional, Union, Dict\n",
    "from IPython.display import Markdown, display\n",
    "\n",
    "from llama_index.core.async_utils import run_jobs\n",
    "from llama_index.core.indices.property_graph.utils import (\n",
    "    default_parse_triplets_fn,\n",
    ")\n",
    "from llama_index.core.graph_stores.types import (\n",
    "    EntityNode,\n",
    "    KG_NODES_KEY,\n",
    "    KG_RELATIONS_KEY,\n",
    "    Relation,\n",
    ")\n",
    "from llama_index.core.llms.llm import LLM\n",
    "from llama_index.core.prompts import PromptTemplate\n",
    "from llama_index.core.prompts.default_prompts import (\n",
    "    DEFAULT_KG_TRIPLET_EXTRACT_PROMPT,\n",
    ")\n",
    "from llama_index.core.schema import TransformComponent, BaseNode\n",
    "from llama_index.core.bridge.pydantic import BaseModel, Field"
   ]
  },
  {
   "cell_type": "code",
   "execution_count": 8,
   "metadata": {},
   "outputs": [],
   "source": [
    "import asyncio\n",
    "import nest_asyncio\n",
    "\n",
    "nest_asyncio.apply()\n",
    "\n",
    "from typing import Any, List, Callable, Optional, Union, Dict\n",
    "from IPython.display import Markdown, display\n",
    "\n",
    "from llama_index.core.async_utils import run_jobs\n",
    "from llama_index.core.indices.property_graph.utils import (\n",
    "    default_parse_triplets_fn,\n",
    ")\n",
    "from llama_index.core.graph_stores.types import (\n",
    "    EntityNode,\n",
    "    KG_NODES_KEY,\n",
    "    KG_RELATIONS_KEY,\n",
    "    Relation,\n",
    ")\n",
    "from llama_index.core.llms.llm import LLM\n",
    "from llama_index.core.prompts import PromptTemplate\n",
    "from llama_index.core.prompts.default_prompts import (\n",
    "    DEFAULT_KG_TRIPLET_EXTRACT_PROMPT,\n",
    ")\n",
    "from llama_index.core.schema import TransformComponent, BaseNode\n",
    "from llama_index.core.bridge.pydantic import BaseModel, Field\n",
    "\n",
    "\n",
    "class GraphRAGExtractor(TransformComponent):\n",
    "    \"\"\"Extract triples from a graph.\n",
    "\n",
    "    Uses an LLM and a simple prompt + output parsing to extract paths (i.e. triples) and entity, relation descriptions from text.\n",
    "\n",
    "    Args:\n",
    "        llm (LLM):\n",
    "            The language model to use.\n",
    "        extract_prompt (Union[str, PromptTemplate]):\n",
    "            The prompt to use for extracting triples.\n",
    "        parse_fn (callable):\n",
    "            A function to parse the output of the language model.\n",
    "        num_workers (int):\n",
    "            The number of workers to use for parallel processing.\n",
    "        max_paths_per_chunk (int):\n",
    "            The maximum number of paths to extract per chunk.\n",
    "    \"\"\"\n",
    "\n",
    "    llm: LLM\n",
    "    extract_prompt: PromptTemplate\n",
    "    parse_fn: Callable\n",
    "    num_workers: int\n",
    "    max_paths_per_chunk: int\n",
    "\n",
    "    def __init__(\n",
    "        self,\n",
    "        llm: Optional[LLM] = None,\n",
    "        extract_prompt: Optional[Union[str, PromptTemplate]] = None,\n",
    "        parse_fn: Callable = default_parse_triplets_fn,\n",
    "        max_paths_per_chunk: int = 10,\n",
    "        num_workers: int = 4,\n",
    "    ) -> None:\n",
    "        \"\"\"Init params.\"\"\"\n",
    "        from llama_index.core import Settings\n",
    "\n",
    "        if isinstance(extract_prompt, str):\n",
    "            extract_prompt = PromptTemplate(extract_prompt)\n",
    "\n",
    "        super().__init__(\n",
    "            llm=llm or Settings.llm,\n",
    "            extract_prompt=extract_prompt or DEFAULT_KG_TRIPLET_EXTRACT_PROMPT,\n",
    "            parse_fn=parse_fn,\n",
    "            num_workers=num_workers,\n",
    "            max_paths_per_chunk=max_paths_per_chunk,\n",
    "        )\n",
    "\n",
    "    @classmethod\n",
    "    def class_name(cls) -> str:\n",
    "        return \"GraphExtractor\"\n",
    "\n",
    "    def __call__(\n",
    "        self, nodes: List[BaseNode], show_progress: bool = False, **kwargs: Any\n",
    "    ) -> List[BaseNode]:\n",
    "        \"\"\"Extract triples from nodes.\"\"\"\n",
    "        return asyncio.run(\n",
    "            self.acall(nodes, show_progress=show_progress, **kwargs)\n",
    "        )\n",
    "\n",
    "    async def _aextract(self, node: BaseNode) -> BaseNode:\n",
    "        \"\"\"Extract triples from a node.\"\"\"\n",
    "        assert hasattr(node, \"text\")\n",
    "\n",
    "        text = node.get_content(metadata_mode=\"llm\")\n",
    "        try:\n",
    "            llm_response = await self.llm.apredict(\n",
    "                self.extract_prompt,\n",
    "                text=text,\n",
    "                max_knowledge_triplets=self.max_paths_per_chunk,\n",
    "            )\n",
    "            entities, entities_relationship = self.parse_fn(llm_response)\n",
    "        except ValueError:\n",
    "            entities = []\n",
    "            entities_relationship = []\n",
    "\n",
    "        existing_nodes = node.metadata.pop(KG_NODES_KEY, [])\n",
    "        existing_relations = node.metadata.pop(KG_RELATIONS_KEY, [])\n",
    "        metadata = node.metadata.copy()\n",
    "        for entity, entity_type, description in entities:\n",
    "            metadata[\n",
    "                \"entity_description\"\n",
    "            ] = description  # Not used in the current implementation. But will be useful in future work.\n",
    "            entity_node = EntityNode(\n",
    "                name=entity, label=entity_type, properties=metadata\n",
    "            )\n",
    "            existing_nodes.append(entity_node)\n",
    "\n",
    "        metadata = node.metadata.copy()\n",
    "        for triple in entities_relationship:\n",
    "            subj, rel, obj, description = triple\n",
    "            subj_node = EntityNode(name=subj, properties=metadata)\n",
    "            obj_node = EntityNode(name=obj, properties=metadata)\n",
    "            metadata[\"relationship_description\"] = description\n",
    "            rel_node = Relation(\n",
    "                label=rel,\n",
    "                source_id=subj_node.id,\n",
    "                target_id=obj_node.id,\n",
    "                properties=metadata,\n",
    "            )\n",
    "\n",
    "            existing_nodes.extend([subj_node, obj_node])\n",
    "            existing_relations.append(rel_node)\n",
    "\n",
    "        node.metadata[KG_NODES_KEY] = existing_nodes\n",
    "        node.metadata[KG_RELATIONS_KEY] = existing_relations\n",
    "        return node\n",
    "\n",
    "    async def acall(\n",
    "        self, nodes: List[BaseNode], show_progress: bool = False, **kwargs: Any\n",
    "    ) -> List[BaseNode]:\n",
    "        \"\"\"Extract triples from nodes async.\"\"\"\n",
    "        jobs = []\n",
    "        for node in nodes:\n",
    "            jobs.append(self._aextract(node))\n",
    "\n",
    "        return await run_jobs(\n",
    "            jobs,\n",
    "            workers=self.num_workers,\n",
    "            show_progress=show_progress,\n",
    "            desc=\"Extracting paths from text\",\n",
    "        )"
   ]
  },
  {
   "cell_type": "code",
   "execution_count": 9,
   "metadata": {},
   "outputs": [],
   "source": [
    "import re\n",
    "from llama_index.core.graph_stores import SimplePropertyGraphStore\n",
    "import networkx as nx\n",
    "from graspologic.partition import hierarchical_leiden\n",
    "\n",
    "from llama_index.core.llms import ChatMessage\n",
    "\n",
    "\n",
    "class GraphRAGStore(SimplePropertyGraphStore):\n",
    "    community_summary = {}\n",
    "    max_cluster_size = 5\n",
    "\n",
    "    def generate_community_summary(self, text):\n",
    "        \"\"\"Generate summary for a given text using an LLM.\"\"\"\n",
    "        messages = [\n",
    "            ChatMessage(\n",
    "                role=\"system\",\n",
    "                content=(\n",
    "                    \"You are provided with a set of relationships from a knowledge graph, each represented as \"\n",
    "                    \"entity1->entity2->relation->relationship_description. Your task is to create a summary of these \"\n",
    "                    \"relationships. The summary should include the names of the entities involved and a concise synthesis \"\n",
    "                    \"of the relationship descriptions. The goal is to capture the most critical and relevant details that \"\n",
    "                    \"highlight the nature and significance of each relationship. Ensure that the summary is coherent and \"\n",
    "                    \"integrates the information in a way that emphasizes the key aspects of the relationships.\"\n",
    "                ),\n",
    "            ),\n",
    "            ChatMessage(role=\"user\", content=text),\n",
    "        ]\n",
    "        response = llm.chat(messages)\n",
    "        clean_response = re.sub(r\"^assistant:\\s*\", \"\", str(response)).strip()\n",
    "        return clean_response\n",
    "\n",
    "    def build_communities(self):\n",
    "        \"\"\"Builds communities from the graph and summarizes them.\"\"\"\n",
    "        nx_graph = self._create_nx_graph()\n",
    "        community_hierarchical_clusters = hierarchical_leiden(\n",
    "            nx_graph, max_cluster_size=self.max_cluster_size\n",
    "        )\n",
    "        community_info = self._collect_community_info(\n",
    "            nx_graph, community_hierarchical_clusters\n",
    "        )\n",
    "        self._summarize_communities(community_info)\n",
    "\n",
    "    def _create_nx_graph(self):\n",
    "        \"\"\"Converts internal graph representation to NetworkX graph.\"\"\"\n",
    "        nx_graph = nx.Graph()\n",
    "        for node in self.graph.nodes.values():\n",
    "            nx_graph.add_node(str(node))\n",
    "        for relation in self.graph.relations.values():\n",
    "            nx_graph.add_edge(\n",
    "                relation.source_id,\n",
    "                relation.target_id,\n",
    "                relationship=relation.label,\n",
    "                description=relation.properties[\"relationship_description\"],\n",
    "            )\n",
    "        return nx_graph\n",
    "\n",
    "    def _collect_community_info(self, nx_graph, clusters):\n",
    "        \"\"\"Collect detailed information for each node based on their community.\"\"\"\n",
    "        community_mapping = {item.node: item.cluster for item in clusters}\n",
    "        community_info = {}\n",
    "        for item in clusters:\n",
    "            cluster_id = item.cluster\n",
    "            node = item.node\n",
    "            if cluster_id not in community_info:\n",
    "                community_info[cluster_id] = []\n",
    "\n",
    "            for neighbor in nx_graph.neighbors(node):\n",
    "                if community_mapping[neighbor] == cluster_id:\n",
    "                    edge_data = nx_graph.get_edge_data(node, neighbor)\n",
    "                    if edge_data:\n",
    "                        detail = f\"{node} -> {neighbor} -> {edge_data['relationship']} -> {edge_data['description']}\"\n",
    "                        community_info[cluster_id].append(detail)\n",
    "        return community_info\n",
    "\n",
    "    def _summarize_communities(self, community_info):\n",
    "        \"\"\"Generate and store summaries for each community.\"\"\"\n",
    "        for community_id, details in community_info.items():\n",
    "            details_text = (\n",
    "                \"\\n\".join(details) + \".\"\n",
    "            )  # Ensure it ends with a period\n",
    "            self.community_summary[\n",
    "                community_id\n",
    "            ] = self.generate_community_summary(details_text)\n",
    "\n",
    "    def get_community_summaries(self):\n",
    "        \"\"\"Returns the community summaries, building them if not already done.\"\"\"\n",
    "        if not self.community_summary:\n",
    "            self.build_communities()\n",
    "        return self.community_summary"
   ]
  },
  {
   "cell_type": "code",
   "execution_count": 10,
   "metadata": {},
   "outputs": [],
   "source": [
    "from llama_index.core.query_engine import CustomQueryEngine\n",
    "from llama_index.core.llms import LLM\n",
    "\n",
    "\n",
    "class GraphRAGQueryEngine(CustomQueryEngine):\n",
    "    graph_store: GraphRAGStore\n",
    "    llm: LLM\n",
    "\n",
    "    def custom_query(self, query_str: str) -> str:\n",
    "        \"\"\"Process all community summaries to generate answers to a specific query.\"\"\"\n",
    "        community_summaries = self.graph_store.get_community_summaries()\n",
    "        community_answers = [\n",
    "            self.generate_answer_from_summary(community_summary, query_str)\n",
    "            for _, community_summary in community_summaries.items()\n",
    "        ]\n",
    "\n",
    "        final_answer = self.aggregate_answers(community_answers)\n",
    "        return final_answer\n",
    "\n",
    "    def generate_answer_from_summary(self, community_summary, query):\n",
    "        \"\"\"Generate an answer from a community summary based on a given query using LLM.\"\"\"\n",
    "        prompt = (\n",
    "            f\"Given the community summary: {community_summary}, \"\n",
    "            f\"how would you answer the following query? Query: {query}\"\n",
    "        )\n",
    "        messages = [\n",
    "            ChatMessage(role=\"system\", content=prompt),\n",
    "            ChatMessage(\n",
    "                role=\"user\",\n",
    "                content=\"I need an answer based on the above information.\",\n",
    "            ),\n",
    "        ]\n",
    "        response = self.llm.chat(messages)\n",
    "        cleaned_response = re.sub(r\"^assistant:\\s*\", \"\", str(response)).strip()\n",
    "        return cleaned_response\n",
    "\n",
    "    def aggregate_answers(self, community_answers):\n",
    "        \"\"\"Aggregate individual community answers into a final, coherent response.\"\"\"\n",
    "        # intermediate_text = \" \".join(community_answers)\n",
    "        prompt = \"Combine the following intermediate answers into a final, concise response.\"\n",
    "        messages = [\n",
    "            ChatMessage(role=\"system\", content=prompt),\n",
    "            ChatMessage(\n",
    "                role=\"user\",\n",
    "                content=f\"Intermediate answers: {community_answers}\",\n",
    "            ),\n",
    "        ]\n",
    "        final_response = self.llm.chat(messages)\n",
    "        cleaned_final_response = re.sub(\n",
    "            r\"^assistant:\\s*\", \"\", str(final_response)\n",
    "        ).strip()\n",
    "        return cleaned_final_response"
   ]
  },
  {
   "cell_type": "code",
   "execution_count": 11,
   "metadata": {},
   "outputs": [],
   "source": [
    "from llama_index.core.node_parser import SentenceSplitter\n",
    "\n",
    "splitter = SentenceSplitter(\n",
    "    chunk_size=1024,\n",
    "    chunk_overlap=20,\n",
    ")\n",
    "nodes = splitter.get_nodes_from_documents(documents)"
   ]
  },
  {
   "cell_type": "code",
   "execution_count": 12,
   "metadata": {},
   "outputs": [
    {
     "data": {
      "text/plain": [
       "150"
      ]
     },
     "execution_count": 12,
     "metadata": {},
     "output_type": "execute_result"
    }
   ],
   "source": [
    "len(nodes)"
   ]
  },
  {
   "cell_type": "code",
   "execution_count": 13,
   "metadata": {},
   "outputs": [],
   "source": [
    "KG_TRIPLET_EXTRACT_TMPL = \"\"\"\n",
    "-Goal-\n",
    "Given a text document, identify all entities and their entity types from the text and all relationships among the identified entities.\n",
    "Given the text, extract up to {max_knowledge_triplets} entity-relation triplets.\n",
    "\n",
    "-Steps-\n",
    "1. Identify all entities. For each identified entity, extract the following information:\n",
    "- entity_name: Name of the entity, capitalized\n",
    "- entity_type: Type of the entity\n",
    "- entity_description: Comprehensive description of the entity's attributes and activities\n",
    "Format each entity as (\"entity\"$$$$$$$$$$$$)\n",
    "\n",
    "2. From the entities identified in step 1, identify all pairs of (source_entity, target_entity) that are *clearly related* to each other.\n",
    "For each pair of related entities, extract the following information:\n",
    "- source_entity: name of the source entity, as identified in step 1\n",
    "- target_entity: name of the target entity, as identified in step 1\n",
    "- relation: relationship between source_entity and target_entity\n",
    "- relationship_description: explanation as to why you think the source entity and the target entity are related to each other\n",
    "\n",
    "Format each relationship as (\"relationship\"$$$$$$$$$$$$$$$$)\n",
    "\n",
    "3. When finished, output.\n",
    "\n",
    "-Real Data-\n",
    "######################\n",
    "text: {text}\n",
    "######################\n",
    "output:\"\"\""
   ]
  },
  {
   "cell_type": "code",
   "execution_count": 14,
   "metadata": {},
   "outputs": [],
   "source": [
    "entity_pattern = r'\\(\"entity\"\\$\\$\\$\\$\"(.+?)\"\\$\\$\\$\\$\"(.+?)\"\\$\\$\\$\\$\"(.+?)\"\\)'\n",
    "relationship_pattern = r'\\(\"relationship\"\\$\\$\\$\\$\"(.+?)\"\\$\\$\\$\\$\"(.+?)\"\\$\\$\\$\\$\"(.+?)\"\\$\\$\\$\\$\"(.+?)\"\\)'\n",
    "\n",
    "\n",
    "def parse_fn(response_str: str) -> Any:\n",
    "    entities = re.findall(entity_pattern, response_str)\n",
    "    relationships = re.findall(relationship_pattern, response_str)\n",
    "    return entities, relationships\n",
    "\n",
    "\n",
    "kg_extractor = GraphRAGExtractor(\n",
    "    llm=llm,\n",
    "    extract_prompt=KG_TRIPLET_EXTRACT_TMPL,\n",
    "    max_paths_per_chunk=2,\n",
    "    parse_fn=parse_fn,\n",
    ")"
   ]
  },
  {
   "cell_type": "code",
   "execution_count": 15,
   "metadata": {},
   "outputs": [
    {
     "name": "stderr",
     "output_type": "stream",
     "text": [
      "Extracting paths from text: 100%|██████████| 150/150 [35:13<00:00, 14.09s/it]\n",
      "Generating embeddings: 100%|██████████| 15/15 [00:03<00:00,  4.83it/s]\n",
      "Generating embeddings: 0it [00:00, ?it/s]\n"
     ]
    }
   ],
   "source": [
    "from llama_index.core import PropertyGraphIndex\n",
    "\n",
    "index = PropertyGraphIndex(\n",
    "    nodes=nodes,\n",
    "    property_graph_store=GraphRAGStore(),\n",
    "    kg_extractors=[kg_extractor],\n",
    "    show_progress=True,\n",
    ")"
   ]
  },
  {
   "cell_type": "code",
   "execution_count": 18,
   "metadata": {},
   "outputs": [
    {
     "data": {
      "text/plain": [
       "ChunkNode(label='text_chunk', embedding=[-0.03504115715622902, -0.028539426624774933, 0.017869949340820312, -0.0014702645130455494, 0.03344041481614113, -0.01641765795648098, 0.060920655727386475, 0.03565133363008499, 0.027963733300566673, -0.047707781195640564, -0.011306972242891788, -0.04639270156621933, -0.06051620841026306, -0.001215245109051466, -0.00449029728770256, 0.05012723430991173, 0.04655905067920685, -0.03453658148646355, 0.035479214042425156, -0.05724874883890152, -0.023526441305875778, -0.0013223399873822927, 0.03877591714262962, 0.02423105202615261, 0.0436219722032547, -0.0512731559574604, -0.01737622544169426, 0.05327562242746353, -0.044555045664310455, 0.023079771548509598, 0.02741161733865738, 0.04721246659755707, -0.026916906237602234, -0.02523728832602501, -0.0293478574603796, 0.026961661875247955, 0.008743136189877987, -0.021091116592288017, -0.010027984157204628, 0.01158934272825718, -0.022760353982448578, -0.044537100940942764, -0.03483690321445465, -0.031212078407406807, -0.010814890265464783, -0.011026288382709026, 0.039852291345596313, -0.04860908165574074, -0.013144969940185547, -0.04041307419538498, -0.02255958691239357, -0.006168687250465155, -0.006681616883724928, 0.07266533374786377, 0.02044408582150936, 0.04711604490876198, -0.05135771632194519, -0.08628129959106445, 0.016401872038841248, -0.0544334277510643, 0.01790924184024334, -0.005760315805673599, -0.007492051925510168, -0.026271486654877663, 0.050253987312316895, 0.0028867393266409636, 0.019556600600481033, 0.04152720421552658, -0.04569216072559357, -0.04807688668370247, -0.013162529096007347, 0.023593533784151077, 0.006664334796369076, -0.009043102152645588, -0.04068807512521744, -0.0049379803240299225, -0.011767578311264515, -0.02159452624619007, 0.01612025685608387, 0.012888697907328606, 0.003695895429700613, -0.015645675361156464, 0.02206576056778431, 0.07285977154970169, -0.0022142529487609863, -0.01355357188731432, -0.03176692873239517, -0.04033759608864784, -0.006298230029642582, 0.0571734756231308, -0.05841356888413429, -0.004856972023844719, 0.027369488030672073, 0.03718838840723038, -0.08637499064207077, 0.02670370414853096, 0.01843450963497162, -0.007182156201452017, -0.019781630486249924, -0.031013140454888344, -0.012991330586373806, -0.04350145161151886, 0.031783320009708405, 0.028346765786409378, -0.09501516073942184, 0.054316431283950806, -0.023561695590615273, 0.021154239773750305, -0.015247231349349022, -0.025530286133289337, -0.0444573238492012, 0.02909705601632595, -0.03916128724813461, 0.05068318545818329, -0.027049081400036812, 0.029205337166786194, 0.04349728301167488, -0.004036986269056797, 0.04437815770506859, -0.0490901879966259, -0.023628011345863342, 0.04178715869784355, -0.002164725447073579, 0.03188622370362282, 0.0032445306424051523, 0.03643827140331268, 0.02359166368842125, 0.027991503477096558, 0.03880726546049118, -0.03354905545711517, 0.040041256695985794, 0.052952323108911514, 0.029617125168442726, -0.019603490829467773, 0.0023751757107675076, 0.011670175939798355, 0.023649971932172775, 0.0032152628991752863, 0.00908440537750721, -0.017823930829763412, -0.0320817306637764, -0.025479650124907494, 0.03754707798361778, 0.006143507547676563, 0.055561892688274384, -0.030904483050107956, 0.03415059298276901, -0.035399436950683594, -0.03730987012386322, -0.028120288625359535, 0.03921706974506378, 0.002130892127752304, 0.03256926313042641, -0.028042539954185486, 0.028552938252687454, 0.008898765780031681, -0.004114075098186731, -0.015448754653334618, -0.05422929674386978, 0.03295597806572914, 0.07085607945919037, 0.030775003135204315, 0.003965663257986307, 0.024840667843818665, 0.02512103132903576, 0.0063806986436247826, 0.00760987214744091, -0.04466132074594498, -0.02833392657339573, 0.0018365937285125256, -0.016171598806977272, -0.027023641392588615, 0.008013978600502014, -0.049800191074609756, 0.0009407340548932552, -0.0009552224655635655, 0.06674962490797043, -0.04061088711023331, -0.031471677124500275, 0.009815819561481476, -0.06417270749807358, 0.08658994734287262, -0.011771807447075844, 0.0967157706618309, -0.00873702671378851, -0.019667237997055054, 0.06345266103744507, 0.022372834384441376, -0.04866359010338783, 0.003324794350191951, -0.030097633600234985, 0.007851052097976208, 0.041213952004909515, 0.0230085626244545, 0.04046223685145378, -0.03284645080566406, 0.020864257588982582, 0.021938137710094452, 0.0294969379901886, -0.0060612233355641365, -0.04125604033470154, -0.02118782140314579, 0.07612291723489761, -0.04024379700422287, -0.022972121834754944, 0.036188069730997086, 0.03496188670396805, -0.04015667364001274, -0.07002650946378708, 0.08516175299882889, 0.047633081674575806, 0.035955760627985, 0.004607778042554855, 0.07476124912500381, 0.0403410941362381, -0.00957432296127081, 0.05184279382228851, -0.03411175310611725, 0.0026560344267636538, -0.0008538183756172657, 0.0365595743060112, -0.021763067692518234, 0.023414818570017815, -0.015107419341802597, -0.020532535389065742, 0.09633263945579529, 0.03016350045800209, -0.05169014632701874, 0.008708219043910503, -0.025798412039875984, 0.05935850366950035, 0.04746951535344124, 0.03211386501789093, 0.03617030754685402, -0.015545935370028019, 0.029344255104660988, -0.009847457520663738, -0.0008378129568882287, 0.011701752431690693, -0.07101453095674515, 0.026253990828990936, 0.04700309783220291, 0.016225846484303474, 0.045020706951618195, -0.030152348801493645, -0.0038502977695316076, -0.006955754943192005, 0.040277719497680664, 0.007976416498422623, -0.05534118786454201, 0.028138063848018646, 0.0027034508530050516, -0.05102468281984329, -0.027690447866916656, 0.067046158015728, -0.021607035771012306, -0.021061470732092857, 0.03012046404182911, 0.05621390789747238, 0.022002216428518295, 0.020945318043231964, 0.037333257496356964, -0.017498228698968887, -0.0036712042056024075, -0.049342475831508636, -0.05395016074180603, -0.030995815992355347, -0.0010096699697896838, 0.004973586183041334, 0.007134155835956335, 0.028500845655798912, -0.012843457981944084, 0.004922523163259029, 0.017666954547166824, -0.005275731440633535, 0.057245757430791855, -0.021318230777978897, 0.010200201533734798, 0.00895664282143116, 0.004530902951955795, 0.051056575030088425, 0.04186312109231949, -0.01295320875942707, -0.002235938562080264, 0.00470745749771595, -0.04472146928310394, -0.020655984058976173, 0.004359192680567503, -0.0684669241309166, -0.0008803183445706964, -0.0029305065982043743, 0.008596098981797695, 0.043011683970689774, 0.04825315624475479, 0.014115719124674797, -0.006621308624744415, 0.028201814740896225, 0.013407371938228607, -0.004238179884850979, 0.007175334729254246, -0.037650227546691895, 0.052599042654037476, -0.014130700379610062, -0.054300203919410706, 0.005974669940769672, -0.04647188261151314, -0.03462318331003189, -0.012674879282712936, -0.21646957099437714, 0.06294164061546326, -0.03342883661389351, -0.01257822010666132, 0.02182913012802601, -0.002363302279263735, 0.0358063243329525, -0.017471443861722946, -0.012658363208174706, 0.04881357401609421, -0.0211027804762125, -0.025511443614959717, -0.007394418586045504, -0.028075359761714935, 0.023593822494149208, -0.0390896238386631, -0.04249371960759163, -0.05403580516576767, -0.015218489803373814, -0.033632583916187286, 0.0029951119795441628, -0.073722705245018, -0.07899534702301025, 0.033661484718322754, 0.06110289692878723, 0.005711057689040899, 0.011600477620959282, 0.007299956865608692, -0.029046697542071342, -0.013489562086760998, 0.011731659062206745, -0.06293030083179474, -0.01713569462299347, 0.014188067987561226, -0.0189532283693552, 0.02006852999329567, -0.005268358159810305, -0.06316731870174408, 0.018018020316958427, -0.06682711839675903, -0.05963871255517006, -0.03497912362217903, 0.023807857185602188, 0.0007391453254967928, 0.06552787125110626, 0.0034022778272628784, -0.06794492900371552, -0.0036463167052716017, 0.004692251328378916, 0.029068490490317345, 0.02074473723769188, 0.003086700337007642, -0.027176126837730408, 0.03316143527626991, -0.009971272200345993, -0.003963883500546217, -0.047548022121191025, 0.0035408749245107174, -0.012965337373316288, -0.015502308495342731, 0.03317638486623764, 0.00015360055840574205, -0.05392744764685631, -0.013932593166828156, 0.02838077023625374, -0.043471936136484146, 0.01437290944159031, -0.052729349583387375, 0.04506268352270126, -0.008176001720130444, 0.003379623405635357, 0.005698658525943756, -0.009922833181917667, -0.08699437975883484, 0.014045307412743568, -0.02641008235514164, -0.00216373847797513, -0.009080866351723671, -0.00353085994720459, 0.01616658829152584, -0.051422763615846634, -0.00025172540335915983, 0.04810062795877457, -0.015122558921575546, 0.012185058556497097, -0.017052778974175453, 0.013729107566177845, 0.012334606610238552, -0.03343062847852707, -0.015548634342849255, 0.04338255524635315, -0.013734609819948673, 0.010949188843369484, 0.022102536633610725, -0.009743290953338146, 0.05417001247406006, -0.009825686924159527, 0.030405154451727867, 0.01741166226565838, 0.030717913061380386, 0.08701064437627792, -0.03600042313337326, -0.022569097578525543, -0.014947773888707161, 0.04577174037694931, 0.026928558945655823, -0.026018796488642693, 0.02179078385233879, -0.0036952791269868612, -0.013283487409353256, 0.02116364985704422, -0.02806338481605053, 0.030361110344529152, -0.056500356644392014, 0.013363425619900227, -0.04106863588094711, -0.0038566170260310173, 0.07835713773965836, 0.057889387011528015, -0.02398342452943325, -0.013552314601838589, -0.03288593888282776, -0.03366752713918686, 0.02884647622704506, -0.03287510201334953, 0.02980048581957817, 0.00495549850165844, 0.033499155193567276, 0.01345744263380766, 0.0336478017270565, -0.039003774523735046, 0.03746681287884712, 0.006203013937920332, -0.0009061164455488324, 0.003082543844357133, -0.05290916934609413, 0.024492690339684486, -0.07253878563642502, 0.024915413931012154, 0.012631315737962723, 0.05536848306655884, 0.055480487644672394, 0.012568165548145771, 0.009362524375319481, 0.032460618764162064, 0.00801160465925932, -0.00887393206357956, -0.005996959749609232, -0.089256651699543, 0.016312137246131897, 0.037465762346982956, -0.036011677235364914, -0.0338951013982296, 0.001822920050472021, -0.03917589411139488, 0.015490245074033737, 0.0417158305644989, 0.006024528760462999, -0.021694988012313843, -0.01583789475262165, 0.05020437017083168, -0.019316866993904114, 0.0018383922288194299, 0.010183453559875488, -0.053162507712841034, 0.09920263290405273, 0.048382241278886795, 0.0015221238136291504, -0.03092261590063572, -0.0006545737269334495, -0.038126204162836075, -0.06522760540246964, -0.02601095288991928, 0.0018695867620408535, 0.015068097971379757, -0.004671537782996893, -0.03509064391255379, -0.011213406920433044, 0.0028030795510858297, -0.02902061864733696, 0.037742022424936295, 0.029515374451875687, 0.020615197718143463, 0.0033964344765990973, 0.06134416535496712, 0.025238918140530586, -0.010797977447509766, -0.01085018552839756, -0.0008521078270860016, -0.014303987845778465, -0.008897664025425911, -0.013778643682599068, -0.08482954651117325, 0.05095284804701805, -0.06976735591888428, -0.021764332428574562, -0.01744215562939644, 0.05201108008623123, 0.005942228250205517, 0.017220454290509224, -0.07537008821964264, 0.0008564590243622661, 0.01789482682943344, 0.05687841773033142, -0.0258317943662405, -0.05734488368034363, 0.0766090527176857, 0.03163015842437744, -0.052034467458724976, 0.06005210429430008, -0.031177202239632607, -0.02424926869571209, -0.0037624924443662167, 0.033607423305511475, 0.041317056864500046, -0.008008991368114948, 0.011016221717000008, -0.06679214537143707, -0.04274696111679077, -0.0008136798860505223, 0.01955997757613659, -0.023664256557822227, -0.03738341107964516, -0.03700316697359085, 0.01886807009577751, 0.01968948356807232, -0.03758195415139198, -0.07948554307222366, 0.030527470633387566, -0.026972921565175056, -0.006758329924196005, -0.02432427555322647, -0.005087049677968025, 0.05089118331670761, -0.02106345444917679, -0.030339069664478302, 0.03462785854935646, -0.018022850155830383, -0.06316224485635757, 0.047803644090890884, -0.012857646681368351, -0.0005073442007414997, -0.02729013003408909, -0.030969444662332535, 0.060548000037670135, 0.027180591598153114, -0.021338265389204025, 0.004958083387464285, -0.015386945568025112, 0.015773940831422806, 0.01871410943567753, 0.000628262700047344, -0.019080018624663353, 0.019627662375569344, 0.016303367912769318, -0.04870997369289398, -0.02590188756585121, -0.0038118516094982624, 0.004407099913805723, 0.025638077408075333, -0.0009133359999395907, -0.010535595007240772, -0.02105650305747986, -0.009787398390471935, 0.0028534941375255585, 0.02391660213470459, 0.03790521249175072, -0.036836959421634674, 0.055688101798295975, -0.04012870416045189, 0.06317553669214249, -0.06598269939422607, 0.022016964852809906, 0.006780883297324181, -0.0009009852656163275, 0.0059779430739581585, 0.03199992701411247, 0.008615152910351753, 0.013805810362100601, -0.06106238439679146, -0.03986677899956703, -0.006611116696149111, -0.058565739542245865, -0.05514632537961006, 0.018734637647867203, -0.030213214457035065, 0.05532267317175865, 0.0024710763245821, -0.06206279620528221, 0.01579003408551216, 0.06680986285209656, 0.046543896198272705, -0.006313888356089592, -0.004655403550714254, 0.014097808860242367, -0.028869209811091423, 0.07875777035951614, 0.0026690487284213305, 0.02583668939769268, -0.007479180581867695, -0.048380933701992035, 0.02274485118687153, 0.0007445658557116985, 0.03905920684337616, -0.017393816262483597, 0.012608545832335949, 0.045674655586481094, -0.049473874270915985, 0.07434418797492981, -0.03075886145234108, -0.010955709964036942, -0.012805777601897717, 0.038845181465148926, 0.03709947317838669, -0.024792984127998352, -0.014345381408929825, 0.04640205577015877, -0.008361748419702053, -0.03819531574845314, -0.006849610712379217, 0.026062777265906334, -0.010425543412566185, 0.05873023346066475, 0.005534010473638773, 0.04832826554775238, 0.006404223386198282, 0.003911323379725218, 0.03628377988934517, -0.0349634550511837, 0.05547687038779259, 0.04464951902627945, -0.0253452155739069, -0.02141771838068962, 0.07688003778457642, -0.027851946651935577, -0.04119173064827919, -0.007192933466285467, -0.074068583548069, 0.033371854573488235, -0.04787589609622955, -0.04249181970953941, 0.04585990309715271, -0.00029483248363249004, 0.04107802361249924, 0.04024391993880272, -0.014588155783712864, 0.03707291930913925, 0.014871282503008842, 0.025665534660220146, 0.0315503254532814, 0.024859486147761345, 0.04498369246721268, -0.0010312834056094289, -0.03725237771868706, 0.03793593496084213, -0.02536306343972683, -0.06550657749176025, 0.011259128339588642, -0.019252903759479523, 0.06177652254700661, -0.06087373197078705, -0.02844391018152237, 0.09777515381574631, -0.06799513101577759, -0.042117707431316376, -0.044470831751823425, -0.01798252761363983, -0.03087347373366356, -0.02743443101644516, 0.014414221048355103, -0.015345831401646137, -0.04953117296099663, -0.05808546766638756, -0.039009660482406616, -0.0020961242262274027, -0.012960865162312984, 0.017634788528084755, -0.03968207910656929, 0.005517452489584684, 0.03926297649741173, -0.03468179702758789, -0.015076776035130024, -0.031803060322999954, -0.03474714234471321, 0.024866271764039993, -0.0613057017326355, 0.0005842099781148136, 0.00555749237537384, -0.018091950565576553, -0.0590515211224556, 0.05760778859257698, 0.013694153167307377, 0.026560738682746887, -0.021201590076088905, -0.007978818379342556, -0.05553435906767845, 0.04689021408557892, -0.03015974350273609, 0.011962850578129292, 0.0743425041437149, 0.05547412857413292, 0.020873477682471275, -0.023998621851205826, -0.009272624738514423, -0.017476020380854607, 0.022466564550995827, -0.021225931122899055, 0.02501789480447769, -0.04511028900742531, -0.008131471462547779, 0.015793733298778534, 0.025825900956988335, -0.03770756348967552, 0.02013997919857502, -0.01479864027351141, 0.01725233532488346, 0.07418406009674072, 0.016225099563598633, -0.02781534753739834, -0.01689453050494194, -0.027875395491719246, 0.030025914311408997, 0.009819899685680866, -0.010011013597249985, -0.010578688234090805, 0.06949298083782196, -0.026978684589266777, 0.011494243517518044, 0.0208884384483099, 0.028856858611106873, 0.015308547765016556, -0.034196678549051285, -0.03682759776711464, -0.04540185257792473, -0.06920833140611649, -0.05893440917134285, 0.024060379713773727, -0.029747452586889267, 0.028523055836558342, -0.017820188775658607, -0.02481628581881523, -0.011556250043213367, -0.0024077598936855793, -0.03765106573700905, -0.005165969021618366, 0.0189531072974205, -0.03143441304564476, 0.032034244388341904, -0.044124092906713486, -0.0035573458299040794, -0.03304564580321312, -0.015460500493645668, 0.004486351273953915, -0.03867651894688606, -0.0034405107144266367, -0.018476789817214012, -0.014148635789752007, -0.0029191223438829184, 0.027581261470913887, -0.004202120006084442], properties={'_node_content': '{\"id_\": \"7b7e69f6-e9ef-4931-b3e6-f79a4b4578bb\", \"embedding\": null, \"metadata\": {}, \"excluded_embed_metadata_keys\": [], \"excluded_llm_metadata_keys\": [], \"relationships\": {\"1\": {\"node_id\": \"e8382cbd-089b-4074-82ba-2a33e7c08c2c\", \"node_type\": \"4\", \"metadata\": {}, \"hash\": \"ab18ca9721f7ebe4589a6b747615370fcd42bc02fdcff1787ab086f950eb14ef\", \"class_name\": \"RelatedNodeInfo\"}}, \"text\": \"\", \"mimetype\": \"text/plain\", \"start_char_idx\": 0, \"end_char_idx\": 1032, \"text_template\": \"{metadata_str}\\\\n\\\\n{content}\", \"metadata_template\": \"{key}: {value}\", \"metadata_seperator\": \"\\\\n\", \"class_name\": \"TextNode\"}', '_node_type': 'TextNode', 'document_id': 'e8382cbd-089b-4074-82ba-2a33e7c08c2c', 'doc_id': 'e8382cbd-089b-4074-82ba-2a33e7c08c2c', 'ref_doc_id': 'e8382cbd-089b-4074-82ba-2a33e7c08c2c'}, text=\"Uber driver shot in North Philadelphia while driving a passenger: PHILADELPHIA (CBS) - An Uber ride in North Philadelphia ended when a bullet pierced through a window and hit the driver.\\nIt happened at the intersection of Broad Street and Lehigh Avenue around 11 p.m. Wednesday night.\\nPolice say a 34-year-old Uber driver was shot in the head.\\nThere was an 18-year-old passenger in the car. She told police she heard gunshots while riding down the 1300 block of Lehigh Avenue.\\nThe passenger then heard the rear window of the car shatter and the driver was shot.\\nThe Uber driver drove the vehicle across Broad Street, where it jumped the curb and crashed into a pole.\\nThe passenger was not injured.\\nThe driver's identity has not been released but he remains in critical condition.\\nThere is no word on any suspects or a motive for the shooting.\\nIn:\\nShooting\\nUber\\nCrime\\nPhiladelphia\\n Jan Carabeo\\nJan Carabeo joined CBS3 Eyewitness News as a reporter in March 2014 and was named weekend morning anchor in January 2017.\\n Twitter Facebook\", id_='7b7e69f6-e9ef-4931-b3e6-f79a4b4578bb')"
      ]
     },
     "execution_count": 18,
     "metadata": {},
     "output_type": "execute_result"
    }
   ],
   "source": [
    "list(index.property_graph_store.graph.nodes.values())[-1]"
   ]
  },
  {
   "cell_type": "code",
   "execution_count": 19,
   "metadata": {},
   "outputs": [
    {
     "ename": "IndexError",
     "evalue": "list index out of range",
     "output_type": "error",
     "traceback": [
      "\u001b[0;31m---------------------------------------------------------------------------\u001b[0m",
      "\u001b[0;31mIndexError\u001b[0m                                Traceback (most recent call last)",
      "Cell \u001b[0;32mIn[19], line 1\u001b[0m\n\u001b[0;32m----> 1\u001b[0m \u001b[38;5;28;43mlist\u001b[39;49m\u001b[43m(\u001b[49m\u001b[43mindex\u001b[49m\u001b[38;5;241;43m.\u001b[39;49m\u001b[43mproperty_graph_store\u001b[49m\u001b[38;5;241;43m.\u001b[39;49m\u001b[43mgraph\u001b[49m\u001b[38;5;241;43m.\u001b[39;49m\u001b[43mrelations\u001b[49m\u001b[38;5;241;43m.\u001b[39;49m\u001b[43mvalues\u001b[49m\u001b[43m(\u001b[49m\u001b[43m)\u001b[49m\u001b[43m)\u001b[49m\u001b[43m[\u001b[49m\u001b[38;5;241;43m0\u001b[39;49m\u001b[43m]\u001b[49m\u001b[38;5;241m.\u001b[39mproperties[\n\u001b[1;32m      2\u001b[0m     \u001b[38;5;124m\"\u001b[39m\u001b[38;5;124mrelationship_description\u001b[39m\u001b[38;5;124m\"\u001b[39m\n\u001b[1;32m      3\u001b[0m ]\n",
      "\u001b[0;31mIndexError\u001b[0m: list index out of range"
     ]
    }
   ],
   "source": [
    "list(index.property_graph_store.graph.relations.values())[0].properties[\n",
    "    \"relationship_description\"\n",
    "]"
   ]
  },
  {
   "cell_type": "code",
   "execution_count": 19,
   "metadata": {},
   "outputs": [
    {
     "ename": "EmptyNetworkError",
     "evalue": "EmptyNetworkError",
     "output_type": "error",
     "traceback": [
      "\u001b[0;31m---------------------------------------------------------------------------\u001b[0m",
      "\u001b[0;31mEmptyNetworkError\u001b[0m                         Traceback (most recent call last)",
      "Cell \u001b[0;32mIn[19], line 1\u001b[0m\n\u001b[0;32m----> 1\u001b[0m \u001b[43mindex\u001b[49m\u001b[38;5;241;43m.\u001b[39;49m\u001b[43mproperty_graph_store\u001b[49m\u001b[38;5;241;43m.\u001b[39;49m\u001b[43mbuild_communities\u001b[49m\u001b[43m(\u001b[49m\u001b[43m)\u001b[49m\n",
      "Cell \u001b[0;32mIn[9], line 36\u001b[0m, in \u001b[0;36mGraphRAGStore.build_communities\u001b[0;34m(self)\u001b[0m\n\u001b[1;32m     34\u001b[0m \u001b[38;5;250m\u001b[39m\u001b[38;5;124;03m\"\"\"Builds communities from the graph and summarizes them.\"\"\"\u001b[39;00m\n\u001b[1;32m     35\u001b[0m nx_graph \u001b[38;5;241m=\u001b[39m \u001b[38;5;28mself\u001b[39m\u001b[38;5;241m.\u001b[39m_create_nx_graph()\n\u001b[0;32m---> 36\u001b[0m community_hierarchical_clusters \u001b[38;5;241m=\u001b[39m \u001b[43mhierarchical_leiden\u001b[49m\u001b[43m(\u001b[49m\n\u001b[1;32m     37\u001b[0m \u001b[43m    \u001b[49m\u001b[43mnx_graph\u001b[49m\u001b[43m,\u001b[49m\u001b[43m \u001b[49m\u001b[43mmax_cluster_size\u001b[49m\u001b[38;5;241;43m=\u001b[39;49m\u001b[38;5;28;43mself\u001b[39;49m\u001b[38;5;241;43m.\u001b[39;49m\u001b[43mmax_cluster_size\u001b[49m\n\u001b[1;32m     38\u001b[0m \u001b[43m\u001b[49m\u001b[43m)\u001b[49m\n\u001b[1;32m     39\u001b[0m community_info \u001b[38;5;241m=\u001b[39m \u001b[38;5;28mself\u001b[39m\u001b[38;5;241m.\u001b[39m_collect_community_info(\n\u001b[1;32m     40\u001b[0m     nx_graph, community_hierarchical_clusters\n\u001b[1;32m     41\u001b[0m )\n\u001b[1;32m     42\u001b[0m \u001b[38;5;28mself\u001b[39m\u001b[38;5;241m.\u001b[39m_summarize_communities(community_info)\n",
      "File \u001b[0;32m<@beartype(graspologic.partition.leiden.hierarchical_leiden) at 0x7fc6c072fce0>:293\u001b[0m, in \u001b[0;36mhierarchical_leiden\u001b[0;34m(__beartype_object_140491609959744, __beartype_object_140491610194432, __beartype_getrandbits, __beartype_get_violation, __beartype_conf, __beartype_object_94743625899808, __beartype_object_140491898520768, __beartype_object_140491610200704, __beartype_object_94743923143792, __beartype_object_94743923064576, __beartype_check_meta, __beartype_func, *args, **kwargs)\u001b[0m\n",
      "File \u001b[0;32m~/miniconda3/envs/llamaindex/lib/python3.11/site-packages/graspologic/partition/leiden.py:588\u001b[0m, in \u001b[0;36mhierarchical_leiden\u001b[0;34m(graph, max_cluster_size, starting_communities, extra_forced_iterations, resolution, randomness, use_modularity, random_seed, weight_attribute, is_weighted, weight_default, check_directed)\u001b[0m\n\u001b[1;32m    580\u001b[0m     node_count, edges \u001b[38;5;241m=\u001b[39m _adjacency_matrix_to_edge_list(\n\u001b[1;32m    581\u001b[0m         graph, identifier, check_directed, is_weighted, weight_default\n\u001b[1;32m    582\u001b[0m     )\n\u001b[1;32m    584\u001b[0m native_friendly_communities \u001b[38;5;241m=\u001b[39m _community_python_to_native(\n\u001b[1;32m    585\u001b[0m     starting_communities, identifier\n\u001b[1;32m    586\u001b[0m )\n\u001b[0;32m--> 588\u001b[0m hierarchical_clusters_native \u001b[38;5;241m=\u001b[39m \u001b[43mgn\u001b[49m\u001b[38;5;241;43m.\u001b[39;49m\u001b[43mhierarchical_leiden\u001b[49m\u001b[43m(\u001b[49m\n\u001b[1;32m    589\u001b[0m \u001b[43m    \u001b[49m\u001b[43medges\u001b[49m\u001b[38;5;241;43m=\u001b[39;49m\u001b[43medges\u001b[49m\u001b[43m,\u001b[49m\n\u001b[1;32m    590\u001b[0m \u001b[43m    \u001b[49m\u001b[43mstarting_communities\u001b[49m\u001b[38;5;241;43m=\u001b[39;49m\u001b[43mnative_friendly_communities\u001b[49m\u001b[43m,\u001b[49m\n\u001b[1;32m    591\u001b[0m \u001b[43m    \u001b[49m\u001b[43mresolution\u001b[49m\u001b[38;5;241;43m=\u001b[39;49m\u001b[43mresolution\u001b[49m\u001b[43m,\u001b[49m\n\u001b[1;32m    592\u001b[0m \u001b[43m    \u001b[49m\u001b[43mrandomness\u001b[49m\u001b[38;5;241;43m=\u001b[39;49m\u001b[43mrandomness\u001b[49m\u001b[43m,\u001b[49m\n\u001b[1;32m    593\u001b[0m \u001b[43m    \u001b[49m\u001b[43miterations\u001b[49m\u001b[38;5;241;43m=\u001b[39;49m\u001b[43mextra_forced_iterations\u001b[49m\u001b[43m \u001b[49m\u001b[38;5;241;43m+\u001b[39;49m\u001b[43m \u001b[49m\u001b[38;5;241;43m1\u001b[39;49m\u001b[43m,\u001b[49m\n\u001b[1;32m    594\u001b[0m \u001b[43m    \u001b[49m\u001b[43muse_modularity\u001b[49m\u001b[38;5;241;43m=\u001b[39;49m\u001b[43muse_modularity\u001b[49m\u001b[43m,\u001b[49m\n\u001b[1;32m    595\u001b[0m \u001b[43m    \u001b[49m\u001b[43mmax_cluster_size\u001b[49m\u001b[38;5;241;43m=\u001b[39;49m\u001b[43mmax_cluster_size\u001b[49m\u001b[43m,\u001b[49m\n\u001b[1;32m    596\u001b[0m \u001b[43m    \u001b[49m\u001b[43mseed\u001b[49m\u001b[38;5;241;43m=\u001b[39;49m\u001b[43mrandom_seed\u001b[49m\u001b[43m,\u001b[49m\n\u001b[1;32m    597\u001b[0m \u001b[43m\u001b[49m\u001b[43m)\u001b[49m\n\u001b[1;32m    599\u001b[0m result_partitions \u001b[38;5;241m=\u001b[39m HierarchicalClusters()\n\u001b[1;32m    600\u001b[0m all_nodes \u001b[38;5;241m=\u001b[39m \u001b[38;5;28mset\u001b[39m()\n",
      "\u001b[0;31mEmptyNetworkError\u001b[0m: EmptyNetworkError"
     ]
    }
   ],
   "source": [
    "index.property_graph_store.build_communities()"
   ]
  },
  {
   "cell_type": "code",
   "execution_count": null,
   "metadata": {},
   "outputs": [],
   "source": []
  }
 ],
 "metadata": {
  "kernelspec": {
   "display_name": "llamaindex",
   "language": "python",
   "name": "python3"
  },
  "language_info": {
   "codemirror_mode": {
    "name": "ipython",
    "version": 3
   },
   "file_extension": ".py",
   "mimetype": "text/x-python",
   "name": "python",
   "nbconvert_exporter": "python",
   "pygments_lexer": "ipython3",
   "version": "3.11.9"
  }
 },
 "nbformat": 4,
 "nbformat_minor": 2
}
